{
 "cells": [
  {
   "cell_type": "code",
   "execution_count": 1,
   "id": "a7a811e4",
   "metadata": {},
   "outputs": [
    {
     "name": "stdout",
     "output_type": "stream",
     "text": [
      "0\n",
      "1\n",
      "2\n",
      "3\n",
      "4\n",
      "5\n",
      "6\n",
      "7\n",
      "8\n",
      "9\n"
     ]
    }
   ],
   "source": [
    "for x in range(10):\n",
    "    print(x)"
   ]
  },
  {
   "cell_type": "code",
   "execution_count": 2,
   "id": "0bd75c99",
   "metadata": {},
   "outputs": [
    {
     "data": {
      "text/plain": [
       "['jim', 'tom', 'nick', 'pam', 'sam', 'tim']"
      ]
     },
     "execution_count": 2,
     "metadata": {},
     "output_type": "execute_result"
    }
   ],
   "source": [
    "names=[\"jim\",\"tom\",\"nick\",\"pam\",\"sam\",\"tim\"]\n",
    "names"
   ]
  },
  {
   "cell_type": "code",
   "execution_count": 3,
   "id": "3b786958",
   "metadata": {},
   "outputs": [
    {
     "name": "stdout",
     "output_type": "stream",
     "text": [
      "jim\n",
      "tom\n",
      "nick\n",
      "pam\n",
      "sam\n",
      "tim\n"
     ]
    }
   ],
   "source": [
    "for name in names:\n",
    "    print(name)"
   ]
  },
  {
   "cell_type": "code",
   "execution_count": 4,
   "id": "f8a33b55",
   "metadata": {},
   "outputs": [
    {
     "name": "stdout",
     "output_type": "stream",
     "text": [
      "jim\n",
      "tom\n",
      "nick\n",
      "pam\n",
      "sam\n",
      "tim\n"
     ]
    }
   ],
   "source": [
    "for i in range(len(names)):\n",
    "    print(names[i])"
   ]
  },
  {
   "cell_type": "code",
   "execution_count": 5,
   "id": "21cc95ce",
   "metadata": {},
   "outputs": [
    {
     "data": {
      "text/plain": [
       "{'jim': 31, 'nick': 31, 'pam': 27, 'sam': 35, 'tim': 31, 'tom': 50}"
      ]
     },
     "execution_count": 5,
     "metadata": {},
     "output_type": "execute_result"
    }
   ],
   "source": [
    "age={'jim':31,\"nick\":31,\"pam\":27,\"sam\":35,\"tim\":31,\"tom\":50}\n",
    "age"
   ]
  },
  {
   "cell_type": "code",
   "execution_count": 6,
   "id": "aa404a83",
   "metadata": {},
   "outputs": [
    {
     "data": {
      "text/plain": [
       "dict_keys(['jim', 'nick', 'pam', 'sam', 'tim', 'tom'])"
      ]
     },
     "execution_count": 6,
     "metadata": {},
     "output_type": "execute_result"
    }
   ],
   "source": [
    "age.keys()"
   ]
  },
  {
   "cell_type": "code",
   "execution_count": 7,
   "id": "712ab3e5",
   "metadata": {},
   "outputs": [
    {
     "name": "stdout",
     "output_type": "stream",
     "text": [
      "jim 31\n",
      "nick 31\n",
      "pam 27\n",
      "sam 35\n",
      "tim 31\n",
      "tom 50\n"
     ]
    }
   ],
   "source": [
    "for name in age.keys():\n",
    "    print(name,age[name])"
   ]
  },
  {
   "cell_type": "code",
   "execution_count": 8,
   "id": "04f16a4e",
   "metadata": {},
   "outputs": [
    {
     "name": "stdout",
     "output_type": "stream",
     "text": [
      "jim 31\n",
      "nick 31\n",
      "pam 27\n",
      "sam 35\n",
      "tim 31\n",
      "tom 50\n"
     ]
    }
   ],
   "source": [
    "for name in age:\n",
    "    print(name,age[name])"
   ]
  },
  {
   "cell_type": "code",
   "execution_count": 10,
   "id": "cea093fb",
   "metadata": {},
   "outputs": [
    {
     "name": "stdout",
     "output_type": "stream",
     "text": [
      "jim 31\n",
      "nick 31\n",
      "pam 27\n",
      "sam 35\n",
      "tim 31\n",
      "tom 50\n"
     ]
    }
   ],
   "source": [
    "for name in sorted(age.keys()):\n",
    "    print(name,age[name])"
   ]
  },
  {
   "cell_type": "code",
   "execution_count": 11,
   "id": "953538b4",
   "metadata": {},
   "outputs": [
    {
     "name": "stdout",
     "output_type": "stream",
     "text": [
      "tom 50\n",
      "tim 31\n",
      "sam 35\n",
      "pam 27\n",
      "nick 31\n",
      "jim 31\n"
     ]
    }
   ],
   "source": [
    "for name in sorted(age.keys(),reverse=True):\n",
    "    print(name,age[name])"
   ]
  },
  {
   "cell_type": "code",
   "execution_count": 12,
   "id": "0b256045",
   "metadata": {},
   "outputs": [
    {
     "data": {
      "text/plain": [
       "True"
      ]
     },
     "execution_count": 12,
     "metadata": {},
     "output_type": "execute_result"
    }
   ],
   "source": [
    "l=[1,2,3]\n",
    "m=[1,2,3]\n",
    "l==m"
   ]
  },
  {
   "cell_type": "code",
   "execution_count": 13,
   "id": "1cb0ec6d",
   "metadata": {},
   "outputs": [
    {
     "data": {
      "text/plain": [
       "False"
      ]
     },
     "execution_count": 13,
     "metadata": {},
     "output_type": "execute_result"
    }
   ],
   "source": [
    "l is m"
   ]
  },
  {
   "cell_type": "code",
   "execution_count": 14,
   "id": "a2ec029b",
   "metadata": {},
   "outputs": [
    {
     "data": {
      "text/plain": [
       "2001311830720"
      ]
     },
     "execution_count": 14,
     "metadata": {},
     "output_type": "execute_result"
    }
   ],
   "source": [
    "id(l)"
   ]
  },
  {
   "cell_type": "code",
   "execution_count": 15,
   "id": "598df0a6",
   "metadata": {},
   "outputs": [
    {
     "data": {
      "text/plain": [
       "2001311803584"
      ]
     },
     "execution_count": 15,
     "metadata": {},
     "output_type": "execute_result"
    }
   ],
   "source": [
    "id(m)"
   ]
  },
  {
   "cell_type": "code",
   "execution_count": 16,
   "id": "f8c00a66",
   "metadata": {},
   "outputs": [
    {
     "data": {
      "text/plain": [
       "False"
      ]
     },
     "execution_count": 16,
     "metadata": {},
     "output_type": "execute_result"
    }
   ],
   "source": [
    "l is m"
   ]
  },
  {
   "cell_type": "code",
   "execution_count": 17,
   "id": "da7d302b",
   "metadata": {},
   "outputs": [
    {
     "data": {
      "text/plain": [
       "False"
      ]
     },
     "execution_count": 17,
     "metadata": {},
     "output_type": "execute_result"
    }
   ],
   "source": [
    "id(l) is id(m)"
   ]
  },
  {
   "cell_type": "code",
   "execution_count": 18,
   "id": "50ad66e5",
   "metadata": {},
   "outputs": [
    {
     "data": {
      "text/plain": [
       "False"
      ]
     },
     "execution_count": 18,
     "metadata": {},
     "output_type": "execute_result"
    }
   ],
   "source": [
    "a=[1,2,3]\n",
    "b=a\n",
    "b=list(a)\n",
    "b is a"
   ]
  },
  {
   "cell_type": "code",
   "execution_count": 19,
   "id": "2086ce4a",
   "metadata": {},
   "outputs": [
    {
     "data": {
      "text/plain": [
       "True"
      ]
     },
     "execution_count": 19,
     "metadata": {},
     "output_type": "execute_result"
    }
   ],
   "source": [
    "a==b"
   ]
  },
  {
   "cell_type": "code",
   "execution_count": 20,
   "id": "5e606f75",
   "metadata": {},
   "outputs": [],
   "source": [
    "b=a[:]"
   ]
  },
  {
   "cell_type": "code",
   "execution_count": 21,
   "id": "2f0fef3c",
   "metadata": {},
   "outputs": [
    {
     "data": {
      "text/plain": [
       "[1, 2, 3]"
      ]
     },
     "execution_count": 21,
     "metadata": {},
     "output_type": "execute_result"
    }
   ],
   "source": [
    "b"
   ]
  },
  {
   "cell_type": "code",
   "execution_count": 22,
   "id": "661ec225",
   "metadata": {},
   "outputs": [],
   "source": [
    "numbers=range(10)\n",
    "squares=[]\n",
    "for number in numbers:\n",
    "    square=number**2\n",
    "    squares.append(square)"
   ]
  },
  {
   "cell_type": "code",
   "execution_count": 23,
   "id": "0b71f741",
   "metadata": {},
   "outputs": [
    {
     "data": {
      "text/plain": [
       "[0, 1, 4, 9, 16, 25, 36, 49, 64, 81]"
      ]
     },
     "execution_count": 23,
     "metadata": {},
     "output_type": "execute_result"
    }
   ],
   "source": [
    "squares"
   ]
  },
  {
   "cell_type": "code",
   "execution_count": 24,
   "id": "f07d0428",
   "metadata": {},
   "outputs": [
    {
     "data": {
      "text/plain": [
       "[0, 1, 4, 9, 16, 25, 36, 49, 64, 81]"
      ]
     },
     "execution_count": 24,
     "metadata": {},
     "output_type": "execute_result"
    }
   ],
   "source": [
    "squares2=[number**2 for number in numbers]\n",
    "squares2"
   ]
  },
  {
   "cell_type": "code",
   "execution_count": 25,
   "id": "e21fca53",
   "metadata": {},
   "outputs": [],
   "source": [
    "def intersect(s1,s2):\n",
    "    res =[]\n",
    "    for x in s1:\n",
    "        if x in s2:\n",
    "            res.append(x)\n",
    "    return res\n"
   ]
  },
  {
   "cell_type": "code",
   "execution_count": 26,
   "id": "5018649a",
   "metadata": {},
   "outputs": [
    {
     "data": {
      "text/plain": [
       "[3, 4, 5]"
      ]
     },
     "execution_count": 26,
     "metadata": {},
     "output_type": "execute_result"
    }
   ],
   "source": [
    "intersect([1,2,3,4,5],[3,4,5,6,7])"
   ]
  },
  {
   "cell_type": "code",
   "execution_count": 37,
   "id": "45850251",
   "metadata": {},
   "outputs": [],
   "source": [
    "import random\n",
    "\n",
    "def password(length):\n",
    "     pw =str()\n",
    "     characters=\"abcdefghijklmnopqrstuvwxyz\"+\"0123456789\"\n",
    "     for i in range(length):\n",
    "      pw=pw+random.choice(characters)\n",
    "     return pw\n",
    "\n",
    "\n"
   ]
  },
  {
   "cell_type": "code",
   "execution_count": 33,
   "id": "9756a9ab",
   "metadata": {},
   "outputs": [
    {
     "data": {
      "text/plain": [
       "'deffdbacea'"
      ]
     },
     "execution_count": 33,
     "metadata": {},
     "output_type": "execute_result"
    }
   ],
   "source": [
    "password(10)"
   ]
  },
  {
   "cell_type": "code",
   "execution_count": 34,
   "id": "d7d74bc3",
   "metadata": {},
   "outputs": [
    {
     "data": {
      "text/plain": [
       "'eebee'"
      ]
     },
     "execution_count": 34,
     "metadata": {},
     "output_type": "execute_result"
    }
   ],
   "source": [
    "password(5)"
   ]
  },
  {
   "cell_type": "code",
   "execution_count": 35,
   "id": "0a33d5e7",
   "metadata": {},
   "outputs": [
    {
     "data": {
      "text/plain": [
       "'cdd'"
      ]
     },
     "execution_count": 35,
     "metadata": {},
     "output_type": "execute_result"
    }
   ],
   "source": [
    "password(3)"
   ]
  },
  {
   "cell_type": "code",
   "execution_count": 38,
   "id": "065761ea",
   "metadata": {},
   "outputs": [
    {
     "data": {
      "text/plain": [
       "'9vbfy97wiy'"
      ]
     },
     "execution_count": 38,
     "metadata": {},
     "output_type": "execute_result"
    }
   ],
   "source": [
    "password(10)"
   ]
  },
  {
   "cell_type": "code",
   "execution_count": 48,
   "id": "e2fa3b7f",
   "metadata": {},
   "outputs": [
    {
     "name": "stdout",
     "output_type": "stream",
     "text": [
      "first line\n",
      "\n",
      "second line\n",
      "\n",
      "third line\n",
      "\n"
     ]
    }
   ],
   "source": [
    "filename=\"input.txt\"\n",
    "for line in open(filename):\n",
    "    print(line)"
   ]
  },
  {
   "cell_type": "code",
   "execution_count": 41,
   "id": "0120c3bf",
   "metadata": {},
   "outputs": [
    {
     "name": "stdout",
     "output_type": "stream",
     "text": [
      "first line\n",
      "second line\n",
      "third line\n"
     ]
    }
   ],
   "source": [
    "for line in open(filename):\n",
    "    line=line.rstrip()\n",
    "    print(line)"
   ]
  },
  {
   "cell_type": "code",
   "execution_count": 42,
   "id": "0b0ffc79",
   "metadata": {},
   "outputs": [
    {
     "name": "stdout",
     "output_type": "stream",
     "text": [
      "['first', 'line']\n",
      "['second', 'line']\n",
      "['third', 'line']\n"
     ]
    }
   ],
   "source": [
    "for line in open(filename):\n",
    "    line=line.rstrip().split(\" \")\n",
    "    print(line)"
   ]
  },
  {
   "cell_type": "code",
   "execution_count": 50,
   "id": "3773303f",
   "metadata": {},
   "outputs": [
    {
     "data": {
      "text/plain": [
       "18"
      ]
     },
     "execution_count": 50,
     "metadata": {},
     "output_type": "execute_result"
    }
   ],
   "source": [
    "f=open(\"output.txt\",\"w\")\n",
    "f.write(\"python\\nhelloworld\\n\")\n"
   ]
  },
  {
   "cell_type": "code",
   "execution_count": 44,
   "id": "abe80421",
   "metadata": {},
   "outputs": [],
   "source": [
    "f.close()"
   ]
  },
  {
   "cell_type": "code",
   "execution_count": 51,
   "id": "1d0217aa",
   "metadata": {},
   "outputs": [],
   "source": [
    "def add(a,b):\n",
    "    mysum=a+b\n",
    "    return mysum"
   ]
  },
  {
   "cell_type": "code",
   "execution_count": 52,
   "id": "4b478736",
   "metadata": {},
   "outputs": [
    {
     "data": {
      "text/plain": [
       "27"
      ]
     },
     "execution_count": 52,
     "metadata": {},
     "output_type": "execute_result"
    }
   ],
   "source": [
    "add(12,15)"
   ]
  },
  {
   "cell_type": "code",
   "execution_count": 53,
   "id": "d71e1a16",
   "metadata": {},
   "outputs": [],
   "source": [
    "def add_and_sub(a,b):\n",
    "    mysum=a+b\n",
    "    mydiff=a-b\n",
    "    return (mysum,mydiff)"
   ]
  },
  {
   "cell_type": "code",
   "execution_count": 54,
   "id": "8a287b4d",
   "metadata": {},
   "outputs": [
    {
     "data": {
      "text/plain": [
       "(35, 5)"
      ]
     },
     "execution_count": 54,
     "metadata": {},
     "output_type": "execute_result"
    }
   ],
   "source": [
    "add_and_sub(20,15)"
   ]
  },
  {
   "cell_type": "code",
   "execution_count": 55,
   "id": "7e9df9fe",
   "metadata": {},
   "outputs": [
    {
     "data": {
      "text/plain": [
       "<function __main__.add(a, b)>"
      ]
     },
     "execution_count": 55,
     "metadata": {},
     "output_type": "execute_result"
    }
   ],
   "source": [
    "add"
   ]
  },
  {
   "cell_type": "code",
   "execution_count": 56,
   "id": "0f760d1a",
   "metadata": {},
   "outputs": [],
   "source": [
    "newadd=add"
   ]
  },
  {
   "cell_type": "code",
   "execution_count": 57,
   "id": "97385596",
   "metadata": {},
   "outputs": [
    {
     "data": {
      "text/plain": [
       "5"
      ]
     },
     "execution_count": 57,
     "metadata": {},
     "output_type": "execute_result"
    }
   ],
   "source": [
    "add(2,3)"
   ]
  },
  {
   "cell_type": "code",
   "execution_count": 58,
   "id": "2bf27717",
   "metadata": {},
   "outputs": [
    {
     "data": {
      "text/plain": [
       "5"
      ]
     },
     "execution_count": 58,
     "metadata": {},
     "output_type": "execute_result"
    }
   ],
   "source": [
    "newadd(2,3)"
   ]
  },
  {
   "cell_type": "code",
   "execution_count": 59,
   "id": "caca3a6f",
   "metadata": {},
   "outputs": [],
   "source": [
    "def modify(mylist):\n",
    "    mylist[0]*=10"
   ]
  },
  {
   "cell_type": "code",
   "execution_count": 60,
   "id": "1a4dd9a0",
   "metadata": {},
   "outputs": [
    {
     "data": {
      "text/plain": [
       "[10, 3, 4, 7, 9]"
      ]
     },
     "execution_count": 60,
     "metadata": {},
     "output_type": "execute_result"
    }
   ],
   "source": [
    "l=[1,3,4,7,9]\n",
    "modify(l)\n",
    "l"
   ]
  },
  {
   "cell_type": "code",
   "execution_count": 61,
   "id": "9df655c6",
   "metadata": {},
   "outputs": [
    {
     "data": {
      "text/plain": [
       "list"
      ]
     },
     "execution_count": 61,
     "metadata": {},
     "output_type": "execute_result"
    }
   ],
   "source": [
    "type(l)"
   ]
  },
  {
   "cell_type": "code",
   "execution_count": 62,
   "id": "08a09776",
   "metadata": {},
   "outputs": [
    {
     "ename": "IndexError",
     "evalue": "list index out of range",
     "output_type": "error",
     "traceback": [
      "\u001b[1;31m---------------------------------------------------------------------------\u001b[0m",
      "\u001b[1;31mIndexError\u001b[0m                                Traceback (most recent call last)",
      "\u001b[1;32m<ipython-input-62-ac77afa80101>\u001b[0m in \u001b[0;36m<module>\u001b[1;34m\u001b[0m\n\u001b[1;32m----> 1\u001b[1;33m \u001b[0ml\u001b[0m\u001b[1;33m[\u001b[0m\u001b[1;36m5\u001b[0m\u001b[1;33m]\u001b[0m\u001b[1;33m\u001b[0m\u001b[1;33m\u001b[0m\u001b[0m\n\u001b[0m",
      "\u001b[1;31mIndexError\u001b[0m: list index out of range"
     ]
    }
   ],
   "source": [
    "l[5]"
   ]
  },
  {
   "cell_type": "code",
   "execution_count": 63,
   "id": "5c17646d",
   "metadata": {},
   "outputs": [
    {
     "data": {
      "text/plain": [
       "5"
      ]
     },
     "execution_count": 63,
     "metadata": {},
     "output_type": "execute_result"
    }
   ],
   "source": [
    "len(l)"
   ]
  },
  {
   "cell_type": "code",
   "execution_count": 64,
   "id": "2d590650",
   "metadata": {},
   "outputs": [
    {
     "data": {
      "text/plain": [
       "7"
      ]
     },
     "execution_count": 64,
     "metadata": {},
     "output_type": "execute_result"
    }
   ],
   "source": [
    "l[3]"
   ]
  },
  {
   "cell_type": "code",
   "execution_count": 65,
   "id": "0aa5f19b",
   "metadata": {},
   "outputs": [],
   "source": [
    "l.append(8)"
   ]
  },
  {
   "cell_type": "code",
   "execution_count": 66,
   "id": "34badb93",
   "metadata": {},
   "outputs": [
    {
     "data": {
      "text/plain": [
       "[10, 3, 4, 7, 9, 8]"
      ]
     },
     "execution_count": 66,
     "metadata": {},
     "output_type": "execute_result"
    }
   ],
   "source": [
    "l"
   ]
  },
  {
   "cell_type": "code",
   "execution_count": 67,
   "id": "fc767e13",
   "metadata": {},
   "outputs": [],
   "source": [
    "d={\"1\":\"aa\",\"2\":\"bb\",\"3\":\"cc\"}"
   ]
  },
  {
   "cell_type": "code",
   "execution_count": 68,
   "id": "9b54fd01",
   "metadata": {},
   "outputs": [
    {
     "data": {
      "text/plain": [
       "dict_keys(['1', '2', '3'])"
      ]
     },
     "execution_count": 68,
     "metadata": {},
     "output_type": "execute_result"
    }
   ],
   "source": [
    "d.keys()"
   ]
  },
  {
   "cell_type": "code",
   "execution_count": 69,
   "id": "a0b11838",
   "metadata": {},
   "outputs": [
    {
     "data": {
      "text/plain": [
       "dict_values(['aa', 'bb', 'cc'])"
      ]
     },
     "execution_count": 69,
     "metadata": {},
     "output_type": "execute_result"
    }
   ],
   "source": [
    "d.values()"
   ]
  },
  {
   "cell_type": "code",
   "execution_count": 70,
   "id": "2fd4ba1f",
   "metadata": {},
   "outputs": [
    {
     "ename": "KeyError",
     "evalue": "1",
     "output_type": "error",
     "traceback": [
      "\u001b[1;31m---------------------------------------------------------------------------\u001b[0m",
      "\u001b[1;31mKeyError\u001b[0m                                  Traceback (most recent call last)",
      "\u001b[1;32m<ipython-input-70-abe283337115>\u001b[0m in \u001b[0;36m<module>\u001b[1;34m\u001b[0m\n\u001b[1;32m----> 1\u001b[1;33m \u001b[0md\u001b[0m\u001b[1;33m[\u001b[0m\u001b[1;36m1\u001b[0m\u001b[1;33m]\u001b[0m\u001b[1;33m\u001b[0m\u001b[1;33m\u001b[0m\u001b[0m\n\u001b[0m",
      "\u001b[1;31mKeyError\u001b[0m: 1"
     ]
    }
   ],
   "source": [
    "d[1]"
   ]
  },
  {
   "cell_type": "code",
   "execution_count": 73,
   "id": "b77debf3",
   "metadata": {},
   "outputs": [],
   "source": [
    "def rsum(n):\n",
    "    rsum=0\n",
    "    for k in range(n):\n",
    "        rsum+=k\n",
    "    return rsum\n",
    "    "
   ]
  },
  {
   "cell_type": "code",
   "execution_count": 74,
   "id": "0af7e574",
   "metadata": {},
   "outputs": [
    {
     "data": {
      "text/plain": [
       "66"
      ]
     },
     "execution_count": 74,
     "metadata": {},
     "output_type": "execute_result"
    }
   ],
   "source": [
    "rsum(12)"
   ]
  },
  {
   "cell_type": "code",
   "execution_count": null,
   "id": "5ce49112",
   "metadata": {},
   "outputs": [],
   "source": []
  }
 ],
 "metadata": {
  "kernelspec": {
   "display_name": "Python 3",
   "language": "python",
   "name": "python3"
  },
  "language_info": {
   "codemirror_mode": {
    "name": "ipython",
    "version": 3
   },
   "file_extension": ".py",
   "mimetype": "text/x-python",
   "name": "python",
   "nbconvert_exporter": "python",
   "pygments_lexer": "ipython3",
   "version": "3.8.8"
  }
 },
 "nbformat": 4,
 "nbformat_minor": 5
}
