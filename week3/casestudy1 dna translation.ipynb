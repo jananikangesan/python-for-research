{
 "cells": [
  {
   "cell_type": "code",
   "execution_count": 13,
   "id": "344f10eb",
   "metadata": {},
   "outputs": [],
   "source": [
    "inputfile=\"dna.txt\""
   ]
  },
  {
   "cell_type": "code",
   "execution_count": 14,
   "id": "ca522c48",
   "metadata": {},
   "outputs": [],
   "source": [
    "f=open(inputfile,\"r\")"
   ]
  },
  {
   "cell_type": "code",
   "execution_count": 15,
   "id": "af0626fc",
   "metadata": {},
   "outputs": [],
   "source": [
    "seq=f.read()"
   ]
  },
  {
   "cell_type": "code",
   "execution_count": 16,
   "id": "8d5d6776",
   "metadata": {},
   "outputs": [
    {
     "data": {
      "text/plain": [
       "'GGTCAGAAAAAGCCCTCTCCATGTCTACTCACGATACATCCCTGAAAACCACTGAGGAAGTGGCTTTTCA\\nGATCATCTTGCTTTGCCAGTTTGGGGTTGGGACTTTTGCCAATGTATTTCTCTTTGTCTATAATTTCTCT\\nCCAATCTCGACTGGTTCTAAACAGAGGCCCAGACAAGTGATTTTAAGACACATGGCTGTGGCCAATGCCT\\nTAACTCTCTTCCTCACTATATTTCCAAACAACATGATGACTTTTGCTCCAATTATTCCTCAAACTGACCT\\nCAAATGTAAATTAGAATTCTTCACTCGCCTCGTGGCAAGAAGCACAAACTTGTGTTCAACTTGTGTTCTG\\nAGTATCCATCAGTTTGTCACACTTGTTCCTGTTAATTCAGGTAAAGGAATACTCAGAGCAAGTGTCACAA\\nACATGGCAAGTTATTCTTGTTACAGTTGTTGGTTCTTCAGTGTCTTAAATAACATCTACATTCCAATTAA\\nGGTCACTGGTCCACAGTTAACAGACAATAACAATAACTCTAAAAGCAAGTTGTTCTGTTCCACTTCTGAT\\nTTCAGTGTAGGCATTGTCTTCTTGAGGTTTGCCCATGATGCCACATTCATGAGCATCATGGTCTGGACCA\\nGTGTCTCCATGGTACTTCTCCTCCATAGACATTGTCAGAGAATGCAGTACATATTCACTCTCAATCAGGA\\nCCCCAGGGGCCAAGCAGAGACCACAGCAACCCATACTATCCTGATGCTGGTAGTCACATTTGTTGGCTTT\\nTATCTTCTAAGTCTTATTTGTATCATCTTTTACACCTATTTTATATATTCTCATCATTCCCTGAGGCATT\\nGCAATGACATTTTGGTTTCGGGTTTCCCTACAATTTCTCCTTTACTGTTGACCTTCAGAGACCCTAAGGG\\nTCCTTGTTCTGTGTTCTTCAACTGTTGAAAGCCAGAGTCACTAAAAATGCCAAACACAGAAGACAGCTTT\\nGCTAATACCATTAAATACTTTATTCCATAAATATGTTTTTAAAAGCTTGTATGAACAAGGTATGGTGCTC\\nACTGCTATACTTATAAAAGAGTAAGGTTATAATCACTTGTTGATATGAAAAGATTTCTGGTTGGAATCTG\\nATTGAAACAGTGAGTTATTCACCACCCTCCATTCTCT'"
      ]
     },
     "execution_count": 16,
     "metadata": {},
     "output_type": "execute_result"
    }
   ],
   "source": [
    "seq"
   ]
  },
  {
   "cell_type": "code",
   "execution_count": 17,
   "id": "65529f6c",
   "metadata": {},
   "outputs": [
    {
     "name": "stdout",
     "output_type": "stream",
     "text": [
      "GGTCAGAAAAAGCCCTCTCCATGTCTACTCACGATACATCCCTGAAAACCACTGAGGAAGTGGCTTTTCA\n",
      "GATCATCTTGCTTTGCCAGTTTGGGGTTGGGACTTTTGCCAATGTATTTCTCTTTGTCTATAATTTCTCT\n",
      "CCAATCTCGACTGGTTCTAAACAGAGGCCCAGACAAGTGATTTTAAGACACATGGCTGTGGCCAATGCCT\n",
      "TAACTCTCTTCCTCACTATATTTCCAAACAACATGATGACTTTTGCTCCAATTATTCCTCAAACTGACCT\n",
      "CAAATGTAAATTAGAATTCTTCACTCGCCTCGTGGCAAGAAGCACAAACTTGTGTTCAACTTGTGTTCTG\n",
      "AGTATCCATCAGTTTGTCACACTTGTTCCTGTTAATTCAGGTAAAGGAATACTCAGAGCAAGTGTCACAA\n",
      "ACATGGCAAGTTATTCTTGTTACAGTTGTTGGTTCTTCAGTGTCTTAAATAACATCTACATTCCAATTAA\n",
      "GGTCACTGGTCCACAGTTAACAGACAATAACAATAACTCTAAAAGCAAGTTGTTCTGTTCCACTTCTGAT\n",
      "TTCAGTGTAGGCATTGTCTTCTTGAGGTTTGCCCATGATGCCACATTCATGAGCATCATGGTCTGGACCA\n",
      "GTGTCTCCATGGTACTTCTCCTCCATAGACATTGTCAGAGAATGCAGTACATATTCACTCTCAATCAGGA\n",
      "CCCCAGGGGCCAAGCAGAGACCACAGCAACCCATACTATCCTGATGCTGGTAGTCACATTTGTTGGCTTT\n",
      "TATCTTCTAAGTCTTATTTGTATCATCTTTTACACCTATTTTATATATTCTCATCATTCCCTGAGGCATT\n",
      "GCAATGACATTTTGGTTTCGGGTTTCCCTACAATTTCTCCTTTACTGTTGACCTTCAGAGACCCTAAGGG\n",
      "TCCTTGTTCTGTGTTCTTCAACTGTTGAAAGCCAGAGTCACTAAAAATGCCAAACACAGAAGACAGCTTT\n",
      "GCTAATACCATTAAATACTTTATTCCATAAATATGTTTTTAAAAGCTTGTATGAACAAGGTATGGTGCTC\n",
      "ACTGCTATACTTATAAAAGAGTAAGGTTATAATCACTTGTTGATATGAAAAGATTTCTGGTTGGAATCTG\n",
      "ATTGAAACAGTGAGTTATTCACCACCCTCCATTCTCT\n"
     ]
    }
   ],
   "source": [
    "print(seq)"
   ]
  },
  {
   "cell_type": "code",
   "execution_count": 18,
   "id": "57a00a67",
   "metadata": {},
   "outputs": [
    {
     "data": {
      "text/plain": [
       "'GGTCAGAAAAAGCCCTCTCCATGTCTACTCACGATACATCCCTGAAAACCACTGAGGAAGTGGCTTTTCAGATCATCTTGCTTTGCCAGTTTGGGGTTGGGACTTTTGCCAATGTATTTCTCTTTGTCTATAATTTCTCTCCAATCTCGACTGGTTCTAAACAGAGGCCCAGACAAGTGATTTTAAGACACATGGCTGTGGCCAATGCCTTAACTCTCTTCCTCACTATATTTCCAAACAACATGATGACTTTTGCTCCAATTATTCCTCAAACTGACCTCAAATGTAAATTAGAATTCTTCACTCGCCTCGTGGCAAGAAGCACAAACTTGTGTTCAACTTGTGTTCTGAGTATCCATCAGTTTGTCACACTTGTTCCTGTTAATTCAGGTAAAGGAATACTCAGAGCAAGTGTCACAAACATGGCAAGTTATTCTTGTTACAGTTGTTGGTTCTTCAGTGTCTTAAATAACATCTACATTCCAATTAAGGTCACTGGTCCACAGTTAACAGACAATAACAATAACTCTAAAAGCAAGTTGTTCTGTTCCACTTCTGATTTCAGTGTAGGCATTGTCTTCTTGAGGTTTGCCCATGATGCCACATTCATGAGCATCATGGTCTGGACCAGTGTCTCCATGGTACTTCTCCTCCATAGACATTGTCAGAGAATGCAGTACATATTCACTCTCAATCAGGACCCCAGGGGCCAAGCAGAGACCACAGCAACCCATACTATCCTGATGCTGGTAGTCACATTTGTTGGCTTTTATCTTCTAAGTCTTATTTGTATCATCTTTTACACCTATTTTATATATTCTCATCATTCCCTGAGGCATTGCAATGACATTTTGGTTTCGGGTTTCCCTACAATTTCTCCTTTACTGTTGACCTTCAGAGACCCTAAGGGTCCTTGTTCTGTGTTCTTCAACTGTTGAAAGCCAGAGTCACTAAAAATGCCAAACACAGAAGACAGCTTTGCTAATACCATTAAATACTTTATTCCATAAATATGTTTTTAAAAGCTTGTATGAACAAGGTATGGTGCTCACTGCTATACTTATAAAAGAGTAAGGTTATAATCACTTGTTGATATGAAAAGATTTCTGGTTGGAATCTGATTGAAACAGTGAGTTATTCACCACCCTCCATTCTCT'"
      ]
     },
     "execution_count": 18,
     "metadata": {},
     "output_type": "execute_result"
    }
   ],
   "source": [
    "seq.replace(\"\\n\",\"\")"
   ]
  },
  {
   "cell_type": "code",
   "execution_count": 19,
   "id": "78c0710e",
   "metadata": {},
   "outputs": [],
   "source": [
    "seq=seq.replace(\"\\n\",\"\")"
   ]
  },
  {
   "cell_type": "code",
   "execution_count": 20,
   "id": "d86b8b1f",
   "metadata": {},
   "outputs": [
    {
     "data": {
      "text/plain": [
       "'GGTCAGAAAAAGCCCTCTCCATGTCTACTCACGATACATCCCTGAAAACCACTGAGGAAGTGGCTTTTCAGATCATCTTGCTTTGCCAGTTTGGGGTTGGGACTTTTGCCAATGTATTTCTCTTTGTCTATAATTTCTCTCCAATCTCGACTGGTTCTAAACAGAGGCCCAGACAAGTGATTTTAAGACACATGGCTGTGGCCAATGCCTTAACTCTCTTCCTCACTATATTTCCAAACAACATGATGACTTTTGCTCCAATTATTCCTCAAACTGACCTCAAATGTAAATTAGAATTCTTCACTCGCCTCGTGGCAAGAAGCACAAACTTGTGTTCAACTTGTGTTCTGAGTATCCATCAGTTTGTCACACTTGTTCCTGTTAATTCAGGTAAAGGAATACTCAGAGCAAGTGTCACAAACATGGCAAGTTATTCTTGTTACAGTTGTTGGTTCTTCAGTGTCTTAAATAACATCTACATTCCAATTAAGGTCACTGGTCCACAGTTAACAGACAATAACAATAACTCTAAAAGCAAGTTGTTCTGTTCCACTTCTGATTTCAGTGTAGGCATTGTCTTCTTGAGGTTTGCCCATGATGCCACATTCATGAGCATCATGGTCTGGACCAGTGTCTCCATGGTACTTCTCCTCCATAGACATTGTCAGAGAATGCAGTACATATTCACTCTCAATCAGGACCCCAGGGGCCAAGCAGAGACCACAGCAACCCATACTATCCTGATGCTGGTAGTCACATTTGTTGGCTTTTATCTTCTAAGTCTTATTTGTATCATCTTTTACACCTATTTTATATATTCTCATCATTCCCTGAGGCATTGCAATGACATTTTGGTTTCGGGTTTCCCTACAATTTCTCCTTTACTGTTGACCTTCAGAGACCCTAAGGGTCCTTGTTCTGTGTTCTTCAACTGTTGAAAGCCAGAGTCACTAAAAATGCCAAACACAGAAGACAGCTTTGCTAATACCATTAAATACTTTATTCCATAAATATGTTTTTAAAAGCTTGTATGAACAAGGTATGGTGCTCACTGCTATACTTATAAAAGAGTAAGGTTATAATCACTTGTTGATATGAAAAGATTTCTGGTTGGAATCTGATTGAAACAGTGAGTTATTCACCACCCTCCATTCTCT'"
      ]
     },
     "execution_count": 20,
     "metadata": {},
     "output_type": "execute_result"
    }
   ],
   "source": [
    "seq"
   ]
  },
  {
   "cell_type": "code",
   "execution_count": 21,
   "id": "1806f983",
   "metadata": {},
   "outputs": [],
   "source": [
    "seq=seq.replace(\"\\r\",\"\")"
   ]
  },
  {
   "cell_type": "code",
   "execution_count": 22,
   "id": "98728426",
   "metadata": {},
   "outputs": [
    {
     "data": {
      "text/plain": [
       "'GGTCAGAAAAAGCCCTCTCCATGTCTACTCACGATACATCCCTGAAAACCACTGAGGAAGTGGCTTTTCAGATCATCTTGCTTTGCCAGTTTGGGGTTGGGACTTTTGCCAATGTATTTCTCTTTGTCTATAATTTCTCTCCAATCTCGACTGGTTCTAAACAGAGGCCCAGACAAGTGATTTTAAGACACATGGCTGTGGCCAATGCCTTAACTCTCTTCCTCACTATATTTCCAAACAACATGATGACTTTTGCTCCAATTATTCCTCAAACTGACCTCAAATGTAAATTAGAATTCTTCACTCGCCTCGTGGCAAGAAGCACAAACTTGTGTTCAACTTGTGTTCTGAGTATCCATCAGTTTGTCACACTTGTTCCTGTTAATTCAGGTAAAGGAATACTCAGAGCAAGTGTCACAAACATGGCAAGTTATTCTTGTTACAGTTGTTGGTTCTTCAGTGTCTTAAATAACATCTACATTCCAATTAAGGTCACTGGTCCACAGTTAACAGACAATAACAATAACTCTAAAAGCAAGTTGTTCTGTTCCACTTCTGATTTCAGTGTAGGCATTGTCTTCTTGAGGTTTGCCCATGATGCCACATTCATGAGCATCATGGTCTGGACCAGTGTCTCCATGGTACTTCTCCTCCATAGACATTGTCAGAGAATGCAGTACATATTCACTCTCAATCAGGACCCCAGGGGCCAAGCAGAGACCACAGCAACCCATACTATCCTGATGCTGGTAGTCACATTTGTTGGCTTTTATCTTCTAAGTCTTATTTGTATCATCTTTTACACCTATTTTATATATTCTCATCATTCCCTGAGGCATTGCAATGACATTTTGGTTTCGGGTTTCCCTACAATTTCTCCTTTACTGTTGACCTTCAGAGACCCTAAGGGTCCTTGTTCTGTGTTCTTCAACTGTTGAAAGCCAGAGTCACTAAAAATGCCAAACACAGAAGACAGCTTTGCTAATACCATTAAATACTTTATTCCATAAATATGTTTTTAAAAGCTTGTATGAACAAGGTATGGTGCTCACTGCTATACTTATAAAAGAGTAAGGTTATAATCACTTGTTGATATGAAAAGATTTCTGGTTGGAATCTGATTGAAACAGTGAGTTATTCACCACCCTCCATTCTCT'"
      ]
     },
     "execution_count": 22,
     "metadata": {},
     "output_type": "execute_result"
    }
   ],
   "source": [
    "seq"
   ]
  },
  {
   "cell_type": "code",
   "execution_count": 23,
   "id": "512c08de",
   "metadata": {},
   "outputs": [],
   "source": [
    "table = {\n",
    "    'ATA':'I', 'ATC':'I', 'ATT':'I', 'ATG':'M',\n",
    "    'ACA':'T', 'ACC':'T', 'ACG':'T', 'ACT':'T',\n",
    "    'AAC':'N', 'AAT':'N', 'AAA':'K', 'AAG':'K',\n",
    "    'AGC':'S', 'AGT':'S', 'AGA':'R', 'AGG':'R',\n",
    "    'CTA':'L', 'CTC':'L', 'CTG':'L', 'CTT':'L',\n",
    "    'CCA':'P', 'CCC':'P', 'CCG':'P', 'CCT':'P',\n",
    "    'CAC':'H', 'CAT':'H', 'CAA':'Q', 'CAG':'Q',\n",
    "    'CGA':'R', 'CGC':'R', 'CGG':'R', 'CGT':'R',\n",
    "    'GTA':'V', 'GTC':'V', 'GTG':'V', 'GTT':'V',\n",
    "    'GCA':'A', 'GCC':'A', 'GCG':'A', 'GCT':'A',\n",
    "    'GAC':'D', 'GAT':'D', 'GAA':'E', 'GAG':'E',\n",
    "    'GGA':'G', 'GGC':'G', 'GGG':'G', 'GGT':'G',\n",
    "    'TCA':'S', 'TCC':'S', 'TCG':'S', 'TCT':'S',\n",
    "    'TTC':'F', 'TTT':'F', 'TTA':'L', 'TTG':'L',\n",
    "    'TAC':'Y', 'TAT':'Y', 'TAA':'_', 'TAG':'_',\n",
    "    'TGC':'C', 'TGT':'C', 'TGA':'_', 'TGG':'W',\n",
    "}"
   ]
  },
  {
   "cell_type": "code",
   "execution_count": 24,
   "id": "c94064e3",
   "metadata": {},
   "outputs": [
    {
     "ename": "NameError",
     "evalue": "name 'CAA' is not defined",
     "output_type": "error",
     "traceback": [
      "\u001b[1;31m---------------------------------------------------------------------------\u001b[0m",
      "\u001b[1;31mNameError\u001b[0m                                 Traceback (most recent call last)",
      "\u001b[1;32m<ipython-input-24-67cdec2f1fb0>\u001b[0m in \u001b[0;36m<module>\u001b[1;34m\u001b[0m\n\u001b[1;32m----> 1\u001b[1;33m \u001b[0mtable\u001b[0m\u001b[1;33m[\u001b[0m\u001b[0mCAA\u001b[0m\u001b[1;33m]\u001b[0m\u001b[1;33m\u001b[0m\u001b[1;33m\u001b[0m\u001b[0m\n\u001b[0m",
      "\u001b[1;31mNameError\u001b[0m: name 'CAA' is not defined"
     ]
    }
   ],
   "source": [
    "table[CAA]"
   ]
  },
  {
   "cell_type": "code",
   "execution_count": 25,
   "id": "06afb1e7",
   "metadata": {},
   "outputs": [
    {
     "data": {
      "text/plain": [
       "'Q'"
      ]
     },
     "execution_count": 25,
     "metadata": {},
     "output_type": "execute_result"
    }
   ],
   "source": [
    "table[\"CAA\"]"
   ]
  },
  {
   "cell_type": "code",
   "execution_count": 26,
   "id": "15000899",
   "metadata": {},
   "outputs": [
    {
     "data": {
      "text/plain": [
       "'P'"
      ]
     },
     "execution_count": 26,
     "metadata": {},
     "output_type": "execute_result"
    }
   ],
   "source": [
    "table[\"CCT\"]"
   ]
  },
  {
   "cell_type": "code",
   "execution_count": 27,
   "id": "ea1f8704",
   "metadata": {},
   "outputs": [],
   "source": [
    "def translate(seq):\n",
    "    table = {\n",
    "    'ATA':'I', 'ATC':'I', 'ATT':'I', 'ATG':'M',\n",
    "    'ACA':'T', 'ACC':'T', 'ACG':'T', 'ACT':'T',\n",
    "    'AAC':'N', 'AAT':'N', 'AAA':'K', 'AAG':'K',\n",
    "    'AGC':'S', 'AGT':'S', 'AGA':'R', 'AGG':'R',\n",
    "    'CTA':'L', 'CTC':'L', 'CTG':'L', 'CTT':'L',\n",
    "    'CCA':'P', 'CCC':'P', 'CCG':'P', 'CCT':'P',\n",
    "    'CAC':'H', 'CAT':'H', 'CAA':'Q', 'CAG':'Q',\n",
    "    'CGA':'R', 'CGC':'R', 'CGG':'R', 'CGT':'R',\n",
    "    'GTA':'V', 'GTC':'V', 'GTG':'V', 'GTT':'V',\n",
    "    'GCA':'A', 'GCC':'A', 'GCG':'A', 'GCT':'A',\n",
    "    'GAC':'D', 'GAT':'D', 'GAA':'E', 'GAG':'E',\n",
    "    'GGA':'G', 'GGC':'G', 'GGG':'G', 'GGT':'G',\n",
    "    'TCA':'S', 'TCC':'S', 'TCG':'S', 'TCT':'S',\n",
    "    'TTC':'F', 'TTT':'F', 'TTA':'L', 'TTG':'L',\n",
    "    'TAC':'Y', 'TAT':'Y', 'TAA':'_', 'TAG':'_',\n",
    "    'TGC':'C', 'TGT':'C', 'TGA':'_', 'TGG':'W',\n",
    "    }\n",
    "    \n",
    "\n",
    "    #check that the sequence length is divisible by 3\n",
    "    protein=\"\"\n",
    "    if len(seq)%3==0:\n",
    "       #loop over the sequence\n",
    "         for i in range(0,len(seq),3):\n",
    "        #extract a single codon\n",
    "           codon=seq[i:i+3]\n",
    "        #look up the codon and store the result\n",
    "           protein +=table[codon]\n",
    "\n",
    "\n",
    "    return protein"
   ]
  },
  {
   "cell_type": "code",
   "execution_count": 28,
   "id": "b5ceb462",
   "metadata": {},
   "outputs": [
    {
     "data": {
      "text/plain": [
       "'I'"
      ]
     },
     "execution_count": 28,
     "metadata": {},
     "output_type": "execute_result"
    }
   ],
   "source": [
    "translate(\"ATA\")"
   ]
  },
  {
   "cell_type": "code",
   "execution_count": 29,
   "id": "ae7c6ded",
   "metadata": {},
   "outputs": [
    {
     "data": {
      "text/plain": [
       "'K'"
      ]
     },
     "execution_count": 29,
     "metadata": {},
     "output_type": "execute_result"
    }
   ],
   "source": [
    "translate(\"AAA\")"
   ]
  },
  {
   "cell_type": "code",
   "execution_count": 30,
   "id": "e21f8b6f",
   "metadata": {},
   "outputs": [
    {
     "data": {
      "text/plain": [
       "'A'"
      ]
     },
     "execution_count": 30,
     "metadata": {},
     "output_type": "execute_result"
    }
   ],
   "source": [
    "translate(\"GCC\")"
   ]
  },
  {
   "cell_type": "code",
   "execution_count": 31,
   "id": "96a62e46",
   "metadata": {},
   "outputs": [
    {
     "data": {
      "text/plain": [
       "1157"
      ]
     },
     "execution_count": 31,
     "metadata": {},
     "output_type": "execute_result"
    }
   ],
   "source": [
    "len(seq)"
   ]
  },
  {
   "cell_type": "code",
   "execution_count": 32,
   "id": "dc179a78",
   "metadata": {},
   "outputs": [
    {
     "data": {
      "text/plain": [
       "2"
      ]
     },
     "execution_count": 32,
     "metadata": {},
     "output_type": "execute_result"
    }
   ],
   "source": [
    "len(seq)%3"
   ]
  },
  {
   "cell_type": "code",
   "execution_count": 20,
   "id": "7102b692",
   "metadata": {},
   "outputs": [
    {
     "name": "stdout",
     "output_type": "stream",
     "text": [
      "G\n",
      "G\n",
      "T\n",
      "C\n",
      "A\n",
      "G\n",
      "A\n",
      "A\n",
      "A\n",
      "A\n",
      "A\n",
      "G\n",
      "C\n",
      "C\n",
      "C\n",
      "T\n",
      "C\n",
      "T\n",
      "C\n",
      "C\n",
      "A\n",
      "T\n",
      "G\n",
      "T\n",
      "C\n",
      "T\n",
      "A\n",
      "C\n",
      "T\n",
      "C\n",
      "A\n",
      "C\n",
      "G\n",
      "A\n",
      "T\n",
      "A\n",
      "C\n",
      "A\n",
      "T\n",
      "C\n",
      "C\n",
      "C\n",
      "T\n",
      "G\n",
      "A\n",
      "A\n",
      "A\n",
      "A\n",
      "C\n",
      "C\n",
      "A\n",
      "C\n",
      "T\n",
      "G\n",
      "A\n",
      "G\n",
      "G\n",
      "A\n",
      "A\n",
      "G\n",
      "T\n",
      "G\n",
      "G\n",
      "C\n",
      "T\n",
      "T\n",
      "T\n",
      "T\n",
      "C\n",
      "A\n",
      "G\n",
      "A\n",
      "T\n",
      "C\n",
      "A\n",
      "T\n",
      "C\n",
      "T\n",
      "T\n",
      "G\n",
      "C\n",
      "T\n",
      "T\n",
      "T\n",
      "G\n",
      "C\n",
      "C\n",
      "A\n",
      "G\n",
      "T\n",
      "T\n",
      "T\n",
      "G\n",
      "G\n",
      "G\n",
      "G\n",
      "T\n",
      "T\n",
      "G\n",
      "G\n",
      "G\n",
      "A\n",
      "C\n",
      "T\n",
      "T\n",
      "T\n",
      "T\n",
      "G\n",
      "C\n",
      "C\n",
      "A\n",
      "A\n",
      "T\n",
      "G\n",
      "T\n",
      "A\n",
      "T\n",
      "T\n",
      "T\n",
      "C\n",
      "T\n",
      "C\n",
      "T\n",
      "T\n",
      "T\n",
      "G\n",
      "T\n",
      "C\n",
      "T\n",
      "A\n",
      "T\n",
      "A\n",
      "A\n",
      "T\n",
      "T\n",
      "T\n",
      "C\n",
      "T\n",
      "C\n",
      "T\n",
      "C\n",
      "C\n",
      "A\n",
      "A\n",
      "T\n",
      "C\n",
      "T\n",
      "C\n",
      "G\n",
      "A\n",
      "C\n",
      "T\n",
      "G\n",
      "G\n",
      "T\n",
      "T\n",
      "C\n",
      "T\n",
      "A\n",
      "A\n",
      "A\n",
      "C\n",
      "A\n",
      "G\n",
      "A\n",
      "G\n",
      "G\n",
      "C\n",
      "C\n",
      "C\n",
      "A\n",
      "G\n",
      "A\n",
      "C\n",
      "A\n",
      "A\n",
      "G\n",
      "T\n",
      "G\n",
      "A\n",
      "T\n",
      "T\n",
      "T\n",
      "T\n",
      "A\n",
      "A\n",
      "G\n",
      "A\n",
      "C\n",
      "A\n",
      "C\n",
      "A\n",
      "T\n",
      "G\n",
      "G\n",
      "C\n",
      "T\n",
      "G\n",
      "T\n",
      "G\n",
      "G\n",
      "C\n",
      "C\n",
      "A\n",
      "A\n",
      "T\n",
      "G\n",
      "C\n",
      "C\n",
      "T\n",
      "T\n",
      "A\n",
      "A\n",
      "C\n",
      "T\n",
      "C\n",
      "T\n",
      "C\n",
      "T\n",
      "T\n",
      "C\n",
      "C\n",
      "T\n",
      "C\n",
      "A\n",
      "C\n",
      "T\n",
      "A\n",
      "T\n",
      "A\n",
      "T\n",
      "T\n",
      "T\n",
      "C\n",
      "C\n",
      "A\n",
      "A\n",
      "A\n",
      "C\n",
      "A\n",
      "A\n",
      "C\n",
      "A\n",
      "T\n",
      "G\n",
      "A\n",
      "T\n",
      "G\n",
      "A\n",
      "C\n",
      "T\n",
      "T\n",
      "T\n",
      "T\n",
      "G\n",
      "C\n",
      "T\n",
      "C\n",
      "C\n",
      "A\n",
      "A\n",
      "T\n",
      "T\n",
      "A\n",
      "T\n",
      "T\n",
      "C\n",
      "C\n",
      "T\n",
      "C\n",
      "A\n",
      "A\n",
      "A\n",
      "C\n",
      "T\n",
      "G\n",
      "A\n",
      "C\n",
      "C\n",
      "T\n",
      "C\n",
      "A\n",
      "A\n",
      "A\n",
      "T\n",
      "G\n",
      "T\n",
      "A\n",
      "A\n",
      "A\n",
      "T\n",
      "T\n",
      "A\n",
      "G\n",
      "A\n",
      "A\n",
      "T\n",
      "T\n",
      "C\n",
      "T\n",
      "T\n",
      "C\n",
      "A\n",
      "C\n",
      "T\n",
      "C\n",
      "G\n",
      "C\n",
      "C\n",
      "T\n",
      "C\n",
      "G\n",
      "T\n",
      "G\n",
      "G\n",
      "C\n",
      "A\n",
      "A\n",
      "G\n",
      "A\n",
      "A\n",
      "G\n",
      "C\n",
      "A\n",
      "C\n",
      "A\n",
      "A\n",
      "A\n",
      "C\n",
      "T\n",
      "T\n",
      "G\n",
      "T\n",
      "G\n",
      "T\n",
      "T\n",
      "C\n",
      "A\n",
      "A\n",
      "C\n",
      "T\n",
      "T\n",
      "G\n",
      "T\n",
      "G\n",
      "T\n",
      "T\n",
      "C\n",
      "T\n",
      "G\n",
      "A\n",
      "G\n",
      "T\n",
      "A\n",
      "T\n",
      "C\n",
      "C\n",
      "A\n",
      "T\n",
      "C\n",
      "A\n",
      "G\n",
      "T\n",
      "T\n",
      "T\n",
      "G\n",
      "T\n",
      "C\n",
      "A\n",
      "C\n",
      "A\n",
      "C\n",
      "T\n",
      "T\n",
      "G\n",
      "T\n",
      "T\n",
      "C\n",
      "C\n",
      "T\n",
      "G\n",
      "T\n",
      "T\n",
      "A\n",
      "A\n",
      "T\n",
      "T\n",
      "C\n",
      "A\n",
      "G\n",
      "G\n",
      "T\n",
      "A\n",
      "A\n",
      "A\n",
      "G\n",
      "G\n",
      "A\n",
      "A\n",
      "T\n",
      "A\n",
      "C\n",
      "T\n",
      "C\n",
      "A\n",
      "G\n",
      "A\n",
      "G\n",
      "C\n",
      "A\n",
      "A\n",
      "G\n",
      "T\n",
      "G\n",
      "T\n",
      "C\n",
      "A\n",
      "C\n",
      "A\n",
      "A\n",
      "A\n",
      "C\n",
      "A\n",
      "T\n",
      "G\n",
      "G\n",
      "C\n",
      "A\n",
      "A\n",
      "G\n",
      "T\n",
      "T\n",
      "A\n",
      "T\n",
      "T\n",
      "C\n",
      "T\n",
      "T\n",
      "G\n",
      "T\n",
      "T\n",
      "A\n",
      "C\n",
      "A\n",
      "G\n",
      "T\n",
      "T\n",
      "G\n",
      "T\n",
      "T\n",
      "G\n",
      "G\n",
      "T\n",
      "T\n",
      "C\n",
      "T\n",
      "T\n",
      "C\n",
      "A\n",
      "G\n",
      "T\n",
      "G\n",
      "T\n",
      "C\n",
      "T\n",
      "T\n",
      "A\n",
      "A\n",
      "A\n",
      "T\n",
      "A\n",
      "A\n",
      "C\n",
      "A\n",
      "T\n",
      "C\n",
      "T\n",
      "A\n",
      "C\n",
      "A\n",
      "T\n",
      "T\n",
      "C\n",
      "C\n",
      "A\n",
      "A\n",
      "T\n",
      "T\n",
      "A\n",
      "A\n",
      "G\n",
      "G\n",
      "T\n",
      "C\n",
      "A\n",
      "C\n",
      "T\n",
      "G\n",
      "G\n",
      "T\n",
      "C\n",
      "C\n",
      "A\n",
      "C\n",
      "A\n",
      "G\n",
      "T\n",
      "T\n",
      "A\n",
      "A\n",
      "C\n",
      "A\n",
      "G\n",
      "A\n",
      "C\n",
      "A\n",
      "A\n",
      "T\n",
      "A\n",
      "A\n",
      "C\n",
      "A\n",
      "A\n",
      "T\n",
      "A\n",
      "A\n",
      "C\n",
      "T\n",
      "C\n",
      "T\n",
      "A\n",
      "A\n",
      "A\n",
      "A\n",
      "G\n",
      "C\n",
      "A\n",
      "A\n",
      "G\n",
      "T\n",
      "T\n",
      "G\n",
      "T\n",
      "T\n",
      "C\n",
      "T\n",
      "G\n",
      "T\n",
      "T\n",
      "C\n",
      "C\n",
      "A\n",
      "C\n",
      "T\n",
      "T\n",
      "C\n",
      "T\n",
      "G\n",
      "A\n",
      "T\n",
      "T\n",
      "T\n",
      "C\n",
      "A\n",
      "G\n",
      "T\n",
      "G\n",
      "T\n",
      "A\n",
      "G\n",
      "G\n",
      "C\n",
      "A\n",
      "T\n",
      "T\n",
      "G\n",
      "T\n",
      "C\n",
      "T\n",
      "T\n",
      "C\n",
      "T\n",
      "T\n",
      "G\n",
      "A\n",
      "G\n",
      "G\n",
      "T\n",
      "T\n",
      "T\n",
      "G\n",
      "C\n",
      "C\n",
      "C\n",
      "A\n",
      "T\n",
      "G\n",
      "A\n",
      "T\n",
      "G\n",
      "C\n",
      "C\n",
      "A\n",
      "C\n",
      "A\n",
      "T\n",
      "T\n",
      "C\n",
      "A\n",
      "T\n",
      "G\n",
      "A\n",
      "G\n",
      "C\n",
      "A\n",
      "T\n",
      "C\n",
      "A\n",
      "T\n",
      "G\n",
      "G\n",
      "T\n",
      "C\n",
      "T\n",
      "G\n",
      "G\n",
      "A\n",
      "C\n",
      "C\n",
      "A\n",
      "G\n",
      "T\n",
      "G\n",
      "T\n",
      "C\n",
      "T\n",
      "C\n",
      "C\n",
      "A\n",
      "T\n",
      "G\n",
      "G\n",
      "T\n",
      "A\n",
      "C\n",
      "T\n",
      "T\n",
      "C\n",
      "T\n",
      "C\n",
      "C\n",
      "T\n",
      "C\n",
      "C\n",
      "A\n",
      "T\n",
      "A\n",
      "G\n",
      "A\n",
      "C\n",
      "A\n",
      "T\n",
      "T\n",
      "G\n",
      "T\n",
      "C\n",
      "A\n",
      "G\n",
      "A\n",
      "G\n",
      "A\n",
      "A\n",
      "T\n",
      "G\n",
      "C\n",
      "A\n",
      "G\n",
      "T\n",
      "A\n",
      "C\n",
      "A\n",
      "T\n",
      "A\n",
      "T\n",
      "T\n",
      "C\n",
      "A\n",
      "C\n",
      "T\n",
      "C\n",
      "T\n",
      "C\n",
      "A\n",
      "A\n",
      "T\n",
      "C\n",
      "A\n",
      "G\n",
      "G\n",
      "A\n",
      "C\n",
      "C\n",
      "C\n",
      "C\n",
      "A\n",
      "G\n",
      "G\n",
      "G\n",
      "G\n",
      "C\n",
      "C\n",
      "A\n",
      "A\n",
      "G\n",
      "C\n",
      "A\n",
      "G\n",
      "A\n",
      "G\n",
      "A\n",
      "C\n",
      "C\n",
      "A\n",
      "C\n",
      "A\n",
      "G\n",
      "C\n",
      "A\n",
      "A\n",
      "C\n",
      "C\n",
      "C\n",
      "A\n",
      "T\n",
      "A\n",
      "C\n",
      "T\n",
      "A\n",
      "T\n",
      "C\n",
      "C\n",
      "T\n",
      "G\n",
      "A\n",
      "T\n",
      "G\n",
      "C\n",
      "T\n",
      "G\n",
      "G\n",
      "T\n",
      "A\n",
      "G\n",
      "T\n",
      "C\n",
      "A\n",
      "C\n",
      "A\n",
      "T\n",
      "T\n",
      "T\n",
      "G\n",
      "T\n",
      "T\n",
      "G\n",
      "G\n",
      "C\n",
      "T\n",
      "T\n",
      "T\n",
      "T\n",
      "A\n",
      "T\n",
      "C\n",
      "T\n",
      "T\n",
      "C\n",
      "T\n",
      "A\n",
      "A\n",
      "G\n",
      "T\n",
      "C\n",
      "T\n",
      "T\n",
      "A\n",
      "T\n",
      "T\n",
      "T\n",
      "G\n",
      "T\n",
      "A\n",
      "T\n",
      "C\n",
      "A\n",
      "T\n",
      "C\n",
      "T\n",
      "T\n",
      "T\n",
      "T\n",
      "A\n",
      "C\n",
      "A\n",
      "C\n",
      "C\n",
      "T\n",
      "A\n",
      "T\n",
      "T\n",
      "T\n",
      "T\n",
      "A\n",
      "T\n",
      "A\n",
      "T\n",
      "A\n",
      "T\n",
      "T\n",
      "C\n",
      "T\n",
      "C\n",
      "A\n",
      "T\n",
      "C\n",
      "A\n",
      "T\n",
      "T\n",
      "C\n",
      "C\n",
      "C\n",
      "T\n",
      "G\n",
      "A\n",
      "G\n",
      "G\n",
      "C\n",
      "A\n",
      "T\n",
      "T\n",
      "G\n",
      "C\n",
      "A\n",
      "A\n",
      "T\n",
      "G\n",
      "A\n",
      "C\n",
      "A\n",
      "T\n",
      "T\n",
      "T\n",
      "T\n",
      "G\n",
      "G\n",
      "T\n",
      "T\n",
      "T\n",
      "C\n",
      "G\n",
      "G\n",
      "G\n",
      "T\n",
      "T\n",
      "T\n",
      "C\n",
      "C\n",
      "C\n",
      "T\n",
      "A\n",
      "C\n",
      "A\n",
      "A\n",
      "T\n",
      "T\n",
      "T\n",
      "C\n",
      "T\n",
      "C\n",
      "C\n",
      "T\n",
      "T\n",
      "T\n",
      "A\n",
      "C\n",
      "T\n",
      "G\n",
      "T\n",
      "T\n",
      "G\n",
      "A\n",
      "C\n",
      "C\n",
      "T\n",
      "T\n",
      "C\n",
      "A\n",
      "G\n",
      "A\n",
      "G\n",
      "A\n",
      "C\n",
      "C\n",
      "C\n",
      "T\n",
      "A\n",
      "A\n",
      "G\n",
      "G\n",
      "G\n",
      "T\n",
      "C\n",
      "C\n",
      "T\n",
      "T\n",
      "G\n",
      "T\n",
      "T\n",
      "C\n",
      "T\n",
      "G\n",
      "T\n",
      "G\n",
      "T\n",
      "T\n",
      "C\n",
      "T\n",
      "T\n",
      "C\n",
      "A\n",
      "A\n",
      "C\n",
      "T\n",
      "G\n",
      "T\n",
      "T\n",
      "G\n",
      "A\n",
      "A\n",
      "A\n",
      "G\n",
      "C\n",
      "C\n",
      "A\n",
      "G\n",
      "A\n",
      "G\n",
      "T\n",
      "C\n",
      "A\n",
      "C\n",
      "T\n",
      "A\n",
      "A\n",
      "A\n",
      "A\n",
      "A\n",
      "T\n",
      "G\n",
      "C\n",
      "C\n",
      "A\n",
      "A\n",
      "A\n",
      "C\n",
      "A\n",
      "C\n",
      "A\n",
      "G\n",
      "A\n",
      "A\n",
      "G\n",
      "A\n",
      "C\n",
      "A\n",
      "G\n",
      "C\n",
      "T\n",
      "T\n",
      "T\n",
      "G\n",
      "C\n",
      "T\n",
      "A\n",
      "A\n",
      "T\n",
      "A\n",
      "C\n",
      "C\n",
      "A\n",
      "T\n",
      "T\n",
      "A\n",
      "A\n",
      "A\n",
      "T\n",
      "A\n",
      "C\n",
      "T\n",
      "T\n",
      "T\n",
      "A\n",
      "T\n",
      "T\n",
      "C\n",
      "C\n",
      "A\n",
      "T\n",
      "A\n",
      "A\n",
      "A\n",
      "T\n",
      "A\n",
      "T\n",
      "G\n",
      "T\n",
      "T\n",
      "T\n",
      "T\n",
      "T\n",
      "A\n",
      "A\n",
      "A\n",
      "A\n",
      "G\n",
      "C\n",
      "T\n",
      "T\n",
      "G\n",
      "T\n",
      "A\n",
      "T\n",
      "G\n",
      "A\n",
      "A\n",
      "C\n",
      "A\n",
      "A\n",
      "G\n",
      "G\n",
      "T\n",
      "A\n",
      "T\n",
      "G\n",
      "G\n",
      "T\n",
      "G\n",
      "C\n",
      "T\n",
      "C\n",
      "A\n",
      "C\n",
      "T\n",
      "G\n",
      "C\n",
      "T\n",
      "A\n",
      "T\n",
      "A\n",
      "C\n",
      "T\n",
      "T\n",
      "A\n",
      "T\n",
      "A\n",
      "A\n",
      "A\n",
      "A\n",
      "G\n",
      "A\n",
      "G\n",
      "T\n",
      "A\n",
      "A\n",
      "G\n",
      "G\n",
      "T\n",
      "T\n",
      "A\n",
      "T\n",
      "A\n",
      "A\n",
      "T\n",
      "C\n",
      "A\n",
      "C\n",
      "T\n",
      "T\n",
      "G\n",
      "T\n",
      "T\n",
      "G\n",
      "A\n",
      "T\n",
      "A\n",
      "T\n",
      "G\n",
      "A\n",
      "A\n",
      "A\n",
      "A\n",
      "G\n",
      "A\n",
      "T\n",
      "T\n",
      "T\n",
      "C\n",
      "T\n",
      "G\n",
      "G\n",
      "T\n",
      "T\n",
      "G\n",
      "G\n",
      "A\n",
      "A\n",
      "T\n",
      "C\n",
      "T\n",
      "G\n",
      "A\n",
      "T\n",
      "T\n",
      "G\n",
      "A\n",
      "A\n",
      "A\n",
      "C\n",
      "A\n",
      "G\n",
      "T\n",
      "G\n",
      "A\n",
      "G\n",
      "T\n",
      "T\n",
      "A\n",
      "T\n",
      "T\n",
      "C\n",
      "A\n",
      "C\n",
      "C\n",
      "A\n",
      "C\n",
      "C\n",
      "C\n",
      "T\n",
      "C\n",
      "C\n",
      "A\n",
      "T\n",
      "T\n",
      "C\n",
      "T\n",
      "C\n",
      "T\n"
     ]
    }
   ],
   "source": [
    "for s in seq:\n",
    "    print(s)"
   ]
  },
  {
   "cell_type": "code",
   "execution_count": 21,
   "id": "eb4275bb",
   "metadata": {},
   "outputs": [
    {
     "data": {
      "text/plain": [
       "'GGT'"
      ]
     },
     "execution_count": 21,
     "metadata": {},
     "output_type": "execute_result"
    }
   ],
   "source": [
    "seq[0:3]"
   ]
  },
  {
   "cell_type": "code",
   "execution_count": 22,
   "id": "f79e076e",
   "metadata": {},
   "outputs": [
    {
     "data": {
      "text/plain": [
       "'CAG'"
      ]
     },
     "execution_count": 22,
     "metadata": {},
     "output_type": "execute_result"
    }
   ],
   "source": [
    "seq[3:6]"
   ]
  },
  {
   "cell_type": "code",
   "execution_count": 23,
   "id": "1a7ca6ba",
   "metadata": {},
   "outputs": [
    {
     "data": {
      "text/plain": [
       "'AAA'"
      ]
     },
     "execution_count": 23,
     "metadata": {},
     "output_type": "execute_result"
    }
   ],
   "source": [
    "seq[6:9]"
   ]
  },
  {
   "cell_type": "code",
   "execution_count": 33,
   "id": "9ac09241",
   "metadata": {},
   "outputs": [
    {
     "data": {
      "text/plain": [
       "'CCTGAAAACC'"
      ]
     },
     "execution_count": 33,
     "metadata": {},
     "output_type": "execute_result"
    }
   ],
   "source": [
    "seq[40:50]"
   ]
  },
  {
   "cell_type": "code",
   "execution_count": 24,
   "id": "532ece7d",
   "metadata": {},
   "outputs": [
    {
     "data": {
      "text/plain": [
       "range(0, 11, 3)"
      ]
     },
     "execution_count": 24,
     "metadata": {},
     "output_type": "execute_result"
    }
   ],
   "source": [
    "range(0,11,3)"
   ]
  },
  {
   "cell_type": "code",
   "execution_count": 25,
   "id": "3646370c",
   "metadata": {},
   "outputs": [
    {
     "data": {
      "text/plain": [
       "[0, 3, 6, 9]"
      ]
     },
     "execution_count": 25,
     "metadata": {},
     "output_type": "execute_result"
    }
   ],
   "source": [
    "list(range(0,11,3))"
   ]
  },
  {
   "cell_type": "code",
   "execution_count": 32,
   "id": "3ba23f14",
   "metadata": {},
   "outputs": [
    {
     "name": "stdout",
     "output_type": "stream",
     "text": [
      "Help on function translate in module __main__:\n",
      "\n",
      "translate(seq)\n",
      "\n"
     ]
    }
   ],
   "source": [
    "help(translate)"
   ]
  },
  {
   "cell_type": "code",
   "execution_count": 41,
   "id": "1ddd32cd",
   "metadata": {},
   "outputs": [],
   "source": [
    "inputfile=\"dna.txt\"\n",
    "with open(inputfile,\"r\") as f:\n",
    "    seq=f.read()"
   ]
  },
  {
   "cell_type": "code",
   "execution_count": 8,
   "id": "01830840",
   "metadata": {},
   "outputs": [],
   "source": [
    "def read_seq(inputfile):\n",
    "    \n",
    "  #reads and return the input sequence with special characters removed\n",
    "    with open(inputfile,\"r\") as f:\n",
    "        seq=f.read()\n",
    "    seq=seq.replace(\"\\n\",\"\")\n",
    "    seq=seq.replace(\"\\r\",\"\")\n",
    "    return seq"
   ]
  },
  {
   "cell_type": "code",
   "execution_count": 9,
   "id": "0455c924",
   "metadata": {},
   "outputs": [],
   "source": [
    "prt=read_seq(\"protein.txt\")"
   ]
  },
  {
   "cell_type": "code",
   "execution_count": 10,
   "id": "d4c4f516",
   "metadata": {},
   "outputs": [],
   "source": [
    "dna=read_seq(\"dna.txt\")"
   ]
  },
  {
   "cell_type": "code",
   "execution_count": 39,
   "id": "5a9f1d52",
   "metadata": {},
   "outputs": [
    {
     "data": {
      "text/plain": [
       "''"
      ]
     },
     "execution_count": 39,
     "metadata": {},
     "output_type": "execute_result"
    }
   ],
   "source": [
    "translate(dna)"
   ]
  },
  {
   "cell_type": "code",
   "execution_count": 40,
   "id": "f05bf287",
   "metadata": {},
   "outputs": [
    {
     "data": {
      "text/plain": [
       "2"
      ]
     },
     "execution_count": 40,
     "metadata": {},
     "output_type": "execute_result"
    }
   ],
   "source": [
    "len(dna)%3"
   ]
  },
  {
   "cell_type": "code",
   "execution_count": 42,
   "id": "6a0c6b5b",
   "metadata": {},
   "outputs": [
    {
     "data": {
      "text/plain": [
       "'MSTHDTSLKTTEEVAFQIILLCQFGVGTFANVFLFVYNFSPISTGSKQRPRQVILRHMAVANALTLFLTIFPNNMMTFAPIIPQTDLKCKLEFFTRLVARSTNLCSTCVLSIHQFVTLVPVNSGKGILRASVTNMASYSCYSCWFFSVLNNIYIPIKVTGPQLTDNNNNSKSKLFCSTSDFSVGIVFLRFAHDATFMSIMVWTSVSMVLLLHRHCQRMQYIFTLNQDPRGQAETTATHTILMLVVTFVGFYLLSLICIIFYTYFIYSHHSLRHCNDILVSGFPTISPLLLTFRDPKGPCSVFFNC_'"
      ]
     },
     "execution_count": 42,
     "metadata": {},
     "output_type": "execute_result"
    }
   ],
   "source": [
    "translate(dna[20:938])"
   ]
  },
  {
   "cell_type": "code",
   "execution_count": 43,
   "id": "aac213ad",
   "metadata": {},
   "outputs": [
    {
     "data": {
      "text/plain": [
       "'MSTHDTSLKTTEEVAFQIILLCQFGVGTFANVFLFVYNFSPISTGSKQRPRQVILRHMAVANALTLFLTIFPNNMMTFAPIIPQTDLKCKLEFFTRLVARSTNLCSTCVLSIHQFVTLVPVNSGKGILRASVTNMASYSCYSCWFFSVLNNIYIPIKVTGPQLTDNNNNSKSKLFCSTSDFSVGIVFLRFAHDATFMSIMVWTSVSMVLLLHRHCQRMQYIFTLNQDPRGQAETTATHTILMLVVTFVGFYLLSLICIIFYTYFIYSHHSLRHCNDILVSGFPTISPLLLTFRDPKGPCSVFFNC'"
      ]
     },
     "execution_count": 43,
     "metadata": {},
     "output_type": "execute_result"
    }
   ],
   "source": [
    "prt"
   ]
  },
  {
   "cell_type": "code",
   "execution_count": 44,
   "id": "f3745b78",
   "metadata": {},
   "outputs": [
    {
     "data": {
      "text/plain": [
       "'MSTHDTSLKTTEEVAFQIILLCQFGVGTFANVFLFVYNFSPISTGSKQRPRQVILRHMAVANALTLFLTIFPNNMMTFAPIIPQTDLKCKLEFFTRLVARSTNLCSTCVLSIHQFVTLVPVNSGKGILRASVTNMASYSCYSCWFFSVLNNIYIPIKVTGPQLTDNNNNSKSKLFCSTSDFSVGIVFLRFAHDATFMSIMVWTSVSMVLLLHRHCQRMQYIFTLNQDPRGQAETTATHTILMLVVTFVGFYLLSLICIIFYTYFIYSHHSLRHCNDILVSGFPTISPLLLTFRDPKGPCSVFFNC'"
      ]
     },
     "execution_count": 44,
     "metadata": {},
     "output_type": "execute_result"
    }
   ],
   "source": [
    "translate(dna[20:935])"
   ]
  },
  {
   "cell_type": "code",
   "execution_count": 45,
   "id": "7fd36bcd",
   "metadata": {},
   "outputs": [
    {
     "data": {
      "text/plain": [
       "True"
      ]
     },
     "execution_count": 45,
     "metadata": {},
     "output_type": "execute_result"
    }
   ],
   "source": [
    "prt==translate(dna[20:935])"
   ]
  },
  {
   "cell_type": "code",
   "execution_count": 46,
   "id": "7a2c49e4",
   "metadata": {},
   "outputs": [
    {
     "data": {
      "text/plain": [
       "True"
      ]
     },
     "execution_count": 46,
     "metadata": {},
     "output_type": "execute_result"
    }
   ],
   "source": [
    "prt==translate(dna[20:938])[:-1] #exclude last character"
   ]
  },
  {
   "cell_type": "code",
   "execution_count": 4,
   "id": "bae4d013",
   "metadata": {},
   "outputs": [
    {
     "data": {
      "text/plain": [
       "8"
      ]
     },
     "execution_count": 4,
     "metadata": {},
     "output_type": "execute_result"
    }
   ],
   "source": [
    "138%13"
   ]
  },
  {
   "cell_type": "code",
   "execution_count": 34,
   "id": "af26359c",
   "metadata": {},
   "outputs": [
    {
     "data": {
      "text/plain": [
       "True"
      ]
     },
     "execution_count": 34,
     "metadata": {},
     "output_type": "execute_result"
    }
   ],
   "source": [
    "translate(dna[20:938])[:-1]==translate(dna[20:935])"
   ]
  },
  {
   "cell_type": "code",
   "execution_count": null,
   "id": "92927bd9",
   "metadata": {},
   "outputs": [],
   "source": []
  }
 ],
 "metadata": {
  "kernelspec": {
   "display_name": "Python 3",
   "language": "python",
   "name": "python3"
  },
  "language_info": {
   "codemirror_mode": {
    "name": "ipython",
    "version": 3
   },
   "file_extension": ".py",
   "mimetype": "text/x-python",
   "name": "python",
   "nbconvert_exporter": "python",
   "pygments_lexer": "ipython3",
   "version": "3.8.8"
  }
 },
 "nbformat": 4,
 "nbformat_minor": 5
}
